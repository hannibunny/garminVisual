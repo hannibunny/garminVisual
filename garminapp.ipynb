{
 "cells": [
  {
   "cell_type": "code",
   "execution_count": 1,
   "metadata": {},
   "outputs": [],
   "source": [
    "import garminconnect\n",
    "from getpass import getpass"
   ]
  },
  {
   "cell_type": "code",
   "execution_count": 32,
   "metadata": {},
   "outputs": [
    {
     "name": "stdout",
     "output_type": "stream",
     "text": [
      "Overwriting app.py\n"
     ]
    }
   ],
   "source": [
    "%%writefile app.py\n",
    "import streamlit as st\n",
    "import garminconnect\n",
    "import pandas as pd\n",
    "import numpy as np\n",
    "import os\n",
    "from datetime import date, timedelta\n",
    "\n",
    "st.title(\"Analyze Garmin Data\")\n",
    "LOGGED_IN=False\n",
    "#email = input(\"Enter email address: \")\n",
    "email = st.text_input(\"Enter email address: \")\n",
    "#password = getpass(\"Enter password: \")\n",
    "password = st.text_input(\"Enter a password\", type=\"password\")\n",
    "#st.write(type(email))\n",
    "#st.write(type(password))\n",
    "\n",
    "\n",
    "if st.button(\"Authenticate\"):\n",
    "    garmin = garminconnect.Garmin(email, password)\n",
    "    try:\n",
    "        a=garmin.login()\n",
    "        st.write(a)\n",
    "    except:\n",
    "        st.write(\"Login failed\")\n",
    "        st.stop()\n",
    "    st.write(garmin.display_name)\n",
    "    GARTH_HOME = os.getenv(\"GARTH_HOME\", \"~/.garth\")\n",
    "    garmin.garth.dump(GARTH_HOME)\n",
    "    \n",
    "    yesterday = date.today() - timedelta(days=1)\n",
    "    yesterday = yesterday.isoformat()\n",
    "\n",
    "    start= date.today() - timedelta(days=21)\n",
    "    start = start.isoformat()\n",
    "    dailysteps=garmin.get_daily_steps(start=start,end=yesterday)\n",
    "    dailyStepsDF=pd.DataFrame(dailysteps)\n",
    "    st.dataframe(dailyStepsDF.style.highlight_max(axis=0))\n",
    "    st.line_chart(dailyStepsDF['totalSteps'], width=0, height=0, use_container_width=True)\n",
    "    st.line_chart(dailyStepsDF['totalDistance'], width=0, height=0, use_container_width=True)"
   ]
  },
  {
   "cell_type": "code",
   "execution_count": null,
   "metadata": {},
   "outputs": [],
   "source": []
  },
  {
   "cell_type": "code",
   "execution_count": null,
   "metadata": {},
   "outputs": [],
   "source": []
  }
 ],
 "metadata": {
  "kernelspec": {
   "display_name": "Python 3 (ipykernel)",
   "language": "python",
   "name": "python3"
  },
  "language_info": {
   "codemirror_mode": {
    "name": "ipython",
    "version": 3
   },
   "file_extension": ".py",
   "mimetype": "text/x-python",
   "name": "python",
   "nbconvert_exporter": "python",
   "pygments_lexer": "ipython3",
   "version": "3.11.5"
  }
 },
 "nbformat": 4,
 "nbformat_minor": 4
}
