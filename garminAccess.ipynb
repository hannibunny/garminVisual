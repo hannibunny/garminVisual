{
 "cells": [
  {
   "cell_type": "code",
   "execution_count": 12,
   "id": "e157f85a",
   "metadata": {},
   "outputs": [],
   "source": [
    "#!pip install garminconnect"
   ]
  },
  {
   "cell_type": "code",
   "execution_count": 2,
   "id": "292f119b",
   "metadata": {},
   "outputs": [],
   "source": [
    "import pandas as pd\n",
    "import numpy as np"
   ]
  },
  {
   "cell_type": "code",
   "execution_count": 1,
   "id": "744da64b",
   "metadata": {},
   "outputs": [],
   "source": [
    "import garminconnect\n",
    "from getpass import getpass"
   ]
  },
  {
   "cell_type": "code",
   "execution_count": 2,
   "id": "7d791251",
   "metadata": {},
   "outputs": [
    {
     "name": "stdin",
     "output_type": "stream",
     "text": [
      "Enter email address:  johannes.maucher@googlemail.com\n",
      "Enter password:  ········\n"
     ]
    }
   ],
   "source": [
    "email = input(\"Enter email address: \")\n",
    "password = getpass(\"Enter password: \")"
   ]
  },
  {
   "cell_type": "code",
   "execution_count": 5,
   "id": "e4955a26-468a-46e2-a1a2-ed97d2f54e50",
   "metadata": {},
   "outputs": [
    {
     "data": {
      "text/plain": [
       "str"
      ]
     },
     "execution_count": 5,
     "metadata": {},
     "output_type": "execute_result"
    }
   ],
   "source": [
    "type(password)"
   ]
  },
  {
   "cell_type": "code",
   "execution_count": 6,
   "id": "e2ca8ce8",
   "metadata": {
    "scrolled": true
   },
   "outputs": [
    {
     "ename": "GarthHTTPError",
     "evalue": "Error in request: 401 Client Error: Unauthorized for url: https://sso.garmin.com/sso/signin?id=gauth-widget&embedWidget=true&gauthHost=https%3A%2F%2Fsso.garmin.com%2Fsso%2Fembed&service=https%3A%2F%2Fsso.garmin.com%2Fsso%2Fembed&source=https%3A%2F%2Fsso.garmin.com%2Fsso%2Fembed&redirectAfterAccountLoginUrl=https%3A%2F%2Fsso.garmin.com%2Fsso%2Fembed&redirectAfterAccountCreationUrl=https%3A%2F%2Fsso.garmin.com%2Fsso%2Fembed",
     "output_type": "error",
     "traceback": [
      "\u001b[0;31m---------------------------------------------------------------------------\u001b[0m",
      "\u001b[0;31mHTTPError\u001b[0m                                 Traceback (most recent call last)",
      "File \u001b[0;32m~/opt/anaconda3/envs/garminenv/lib/python3.12/site-packages/garth/http.py:139\u001b[0m, in \u001b[0;36mClient.request\u001b[0;34m(self, method, subdomain, path, api, referrer, headers, **kwargs)\u001b[0m\n\u001b[1;32m    138\u001b[0m \u001b[38;5;28;01mtry\u001b[39;00m:\n\u001b[0;32m--> 139\u001b[0m     \u001b[38;5;28mself\u001b[39m\u001b[38;5;241m.\u001b[39mlast_resp\u001b[38;5;241m.\u001b[39mraise_for_status()\n\u001b[1;32m    140\u001b[0m \u001b[38;5;28;01mexcept\u001b[39;00m HTTPError \u001b[38;5;28;01mas\u001b[39;00m e:\n",
      "File \u001b[0;32m~/opt/anaconda3/envs/garminenv/lib/python3.12/site-packages/requests/models.py:1024\u001b[0m, in \u001b[0;36mResponse.raise_for_status\u001b[0;34m(self)\u001b[0m\n\u001b[1;32m   1023\u001b[0m \u001b[38;5;28;01mif\u001b[39;00m http_error_msg:\n\u001b[0;32m-> 1024\u001b[0m     \u001b[38;5;28;01mraise\u001b[39;00m HTTPError(http_error_msg, response\u001b[38;5;241m=\u001b[39m\u001b[38;5;28mself\u001b[39m)\n",
      "\u001b[0;31mHTTPError\u001b[0m: 401 Client Error: Unauthorized for url: https://sso.garmin.com/sso/signin?id=gauth-widget&embedWidget=true&gauthHost=https%3A%2F%2Fsso.garmin.com%2Fsso%2Fembed&service=https%3A%2F%2Fsso.garmin.com%2Fsso%2Fembed&source=https%3A%2F%2Fsso.garmin.com%2Fsso%2Fembed&redirectAfterAccountLoginUrl=https%3A%2F%2Fsso.garmin.com%2Fsso%2Fembed&redirectAfterAccountCreationUrl=https%3A%2F%2Fsso.garmin.com%2Fsso%2Fembed",
      "\nDuring handling of the above exception, another exception occurred:\n",
      "\u001b[0;31mGarthHTTPError\u001b[0m                            Traceback (most recent call last)",
      "Cell \u001b[0;32mIn[6], line 2\u001b[0m\n\u001b[1;32m      1\u001b[0m garmin \u001b[38;5;241m=\u001b[39m garminconnect\u001b[38;5;241m.\u001b[39mGarmin(email, password)\n\u001b[0;32m----> 2\u001b[0m garmin\u001b[38;5;241m.\u001b[39mlogin()\n\u001b[1;32m      4\u001b[0m garmin\u001b[38;5;241m.\u001b[39mdisplay_name\n",
      "File \u001b[0;32m~/opt/anaconda3/envs/garminenv/lib/python3.12/site-packages/garminconnect/__init__.py:204\u001b[0m, in \u001b[0;36mGarmin.login\u001b[0;34m(self, tokenstore)\u001b[0m\n\u001b[1;32m    202\u001b[0m         \u001b[38;5;28mself\u001b[39m\u001b[38;5;241m.\u001b[39mgarth\u001b[38;5;241m.\u001b[39mload(tokenstore)\n\u001b[1;32m    203\u001b[0m \u001b[38;5;28;01melse\u001b[39;00m:\n\u001b[0;32m--> 204\u001b[0m     \u001b[38;5;28mself\u001b[39m\u001b[38;5;241m.\u001b[39mgarth\u001b[38;5;241m.\u001b[39mlogin(\n\u001b[1;32m    205\u001b[0m         \u001b[38;5;28mself\u001b[39m\u001b[38;5;241m.\u001b[39musername, \u001b[38;5;28mself\u001b[39m\u001b[38;5;241m.\u001b[39mpassword, prompt_mfa\u001b[38;5;241m=\u001b[39m\u001b[38;5;28mself\u001b[39m\u001b[38;5;241m.\u001b[39mprompt_mfa\n\u001b[1;32m    206\u001b[0m     )\n\u001b[1;32m    208\u001b[0m \u001b[38;5;28mself\u001b[39m\u001b[38;5;241m.\u001b[39mdisplay_name \u001b[38;5;241m=\u001b[39m \u001b[38;5;28mself\u001b[39m\u001b[38;5;241m.\u001b[39mgarth\u001b[38;5;241m.\u001b[39mprofile[\u001b[38;5;124m\"\u001b[39m\u001b[38;5;124mdisplayName\u001b[39m\u001b[38;5;124m\"\u001b[39m]\n\u001b[1;32m    209\u001b[0m \u001b[38;5;28mself\u001b[39m\u001b[38;5;241m.\u001b[39mfull_name \u001b[38;5;241m=\u001b[39m \u001b[38;5;28mself\u001b[39m\u001b[38;5;241m.\u001b[39mgarth\u001b[38;5;241m.\u001b[39mprofile[\u001b[38;5;124m\"\u001b[39m\u001b[38;5;124mfullName\u001b[39m\u001b[38;5;124m\"\u001b[39m]\n",
      "File \u001b[0;32m~/opt/anaconda3/envs/garminenv/lib/python3.12/site-packages/garth/http.py:160\u001b[0m, in \u001b[0;36mClient.login\u001b[0;34m(self, *args, **kwargs)\u001b[0m\n\u001b[1;32m    159\u001b[0m \u001b[38;5;28;01mdef\u001b[39;00m \u001b[38;5;21mlogin\u001b[39m(\u001b[38;5;28mself\u001b[39m, \u001b[38;5;241m*\u001b[39margs, \u001b[38;5;241m*\u001b[39m\u001b[38;5;241m*\u001b[39mkwargs):\n\u001b[0;32m--> 160\u001b[0m     \u001b[38;5;28mself\u001b[39m\u001b[38;5;241m.\u001b[39moauth1_token, \u001b[38;5;28mself\u001b[39m\u001b[38;5;241m.\u001b[39moauth2_token \u001b[38;5;241m=\u001b[39m sso\u001b[38;5;241m.\u001b[39mlogin(\n\u001b[1;32m    161\u001b[0m         \u001b[38;5;241m*\u001b[39margs, \u001b[38;5;241m*\u001b[39m\u001b[38;5;241m*\u001b[39mkwargs, client\u001b[38;5;241m=\u001b[39m\u001b[38;5;28mself\u001b[39m\n\u001b[1;32m    162\u001b[0m     )\n",
      "File \u001b[0;32m~/opt/anaconda3/envs/garminenv/lib/python3.12/site-packages/garth/sso.py:84\u001b[0m, in \u001b[0;36mlogin\u001b[0;34m(email, password, client, prompt_mfa)\u001b[0m\n\u001b[1;32m     81\u001b[0m csrf_token \u001b[38;5;241m=\u001b[39m get_csrf_token(client\u001b[38;5;241m.\u001b[39mlast_resp\u001b[38;5;241m.\u001b[39mtext)\n\u001b[1;32m     83\u001b[0m \u001b[38;5;66;03m# Submit login form with email and password\u001b[39;00m\n\u001b[0;32m---> 84\u001b[0m client\u001b[38;5;241m.\u001b[39mpost(\n\u001b[1;32m     85\u001b[0m     \u001b[38;5;124m\"\u001b[39m\u001b[38;5;124msso\u001b[39m\u001b[38;5;124m\"\u001b[39m,\n\u001b[1;32m     86\u001b[0m     \u001b[38;5;124m\"\u001b[39m\u001b[38;5;124m/sso/signin\u001b[39m\u001b[38;5;124m\"\u001b[39m,\n\u001b[1;32m     87\u001b[0m     params\u001b[38;5;241m=\u001b[39mSIGNIN_PARAMS,\n\u001b[1;32m     88\u001b[0m     referrer\u001b[38;5;241m=\u001b[39m\u001b[38;5;28;01mTrue\u001b[39;00m,\n\u001b[1;32m     89\u001b[0m     data\u001b[38;5;241m=\u001b[39m\u001b[38;5;28mdict\u001b[39m(\n\u001b[1;32m     90\u001b[0m         username\u001b[38;5;241m=\u001b[39memail,\n\u001b[1;32m     91\u001b[0m         password\u001b[38;5;241m=\u001b[39mpassword,\n\u001b[1;32m     92\u001b[0m         embed\u001b[38;5;241m=\u001b[39m\u001b[38;5;124m\"\u001b[39m\u001b[38;5;124mtrue\u001b[39m\u001b[38;5;124m\"\u001b[39m,\n\u001b[1;32m     93\u001b[0m         _csrf\u001b[38;5;241m=\u001b[39mcsrf_token,\n\u001b[1;32m     94\u001b[0m     ),\n\u001b[1;32m     95\u001b[0m )\n\u001b[1;32m     96\u001b[0m title \u001b[38;5;241m=\u001b[39m get_title(client\u001b[38;5;241m.\u001b[39mlast_resp\u001b[38;5;241m.\u001b[39mtext)\n\u001b[1;32m     98\u001b[0m \u001b[38;5;66;03m# Handle MFA\u001b[39;00m\n",
      "File \u001b[0;32m~/opt/anaconda3/envs/garminenv/lib/python3.12/site-packages/garth/http.py:151\u001b[0m, in \u001b[0;36mClient.post\u001b[0;34m(self, *args, **kwargs)\u001b[0m\n\u001b[1;32m    150\u001b[0m \u001b[38;5;28;01mdef\u001b[39;00m \u001b[38;5;21mpost\u001b[39m(\u001b[38;5;28mself\u001b[39m, \u001b[38;5;241m*\u001b[39margs, \u001b[38;5;241m*\u001b[39m\u001b[38;5;241m*\u001b[39mkwargs) \u001b[38;5;241m-\u001b[39m\u001b[38;5;241m>\u001b[39m Response:\n\u001b[0;32m--> 151\u001b[0m     \u001b[38;5;28;01mreturn\u001b[39;00m \u001b[38;5;28mself\u001b[39m\u001b[38;5;241m.\u001b[39mrequest(\u001b[38;5;124m\"\u001b[39m\u001b[38;5;124mPOST\u001b[39m\u001b[38;5;124m\"\u001b[39m, \u001b[38;5;241m*\u001b[39margs, \u001b[38;5;241m*\u001b[39m\u001b[38;5;241m*\u001b[39mkwargs)\n",
      "File \u001b[0;32m~/opt/anaconda3/envs/garminenv/lib/python3.12/site-packages/garth/http.py:141\u001b[0m, in \u001b[0;36mClient.request\u001b[0;34m(self, method, subdomain, path, api, referrer, headers, **kwargs)\u001b[0m\n\u001b[1;32m    139\u001b[0m     \u001b[38;5;28mself\u001b[39m\u001b[38;5;241m.\u001b[39mlast_resp\u001b[38;5;241m.\u001b[39mraise_for_status()\n\u001b[1;32m    140\u001b[0m \u001b[38;5;28;01mexcept\u001b[39;00m HTTPError \u001b[38;5;28;01mas\u001b[39;00m e:\n\u001b[0;32m--> 141\u001b[0m     \u001b[38;5;28;01mraise\u001b[39;00m GarthHTTPError(\n\u001b[1;32m    142\u001b[0m         msg\u001b[38;5;241m=\u001b[39m\u001b[38;5;124m\"\u001b[39m\u001b[38;5;124mError in request\u001b[39m\u001b[38;5;124m\"\u001b[39m,\n\u001b[1;32m    143\u001b[0m         error\u001b[38;5;241m=\u001b[39me,\n\u001b[1;32m    144\u001b[0m     )\n\u001b[1;32m    145\u001b[0m \u001b[38;5;28;01mreturn\u001b[39;00m \u001b[38;5;28mself\u001b[39m\u001b[38;5;241m.\u001b[39mlast_resp\n",
      "\u001b[0;31mGarthHTTPError\u001b[0m: Error in request: 401 Client Error: Unauthorized for url: https://sso.garmin.com/sso/signin?id=gauth-widget&embedWidget=true&gauthHost=https%3A%2F%2Fsso.garmin.com%2Fsso%2Fembed&service=https%3A%2F%2Fsso.garmin.com%2Fsso%2Fembed&source=https%3A%2F%2Fsso.garmin.com%2Fsso%2Fembed&redirectAfterAccountLoginUrl=https%3A%2F%2Fsso.garmin.com%2Fsso%2Fembed&redirectAfterAccountCreationUrl=https%3A%2F%2Fsso.garmin.com%2Fsso%2Fembed"
     ]
    }
   ],
   "source": [
    "garmin = garminconnect.Garmin(email, password)\n",
    "garmin.login()\n",
    "\n",
    "garmin.display_name"
   ]
  },
  {
   "cell_type": "code",
   "execution_count": 24,
   "id": "ae39efd6",
   "metadata": {},
   "outputs": [],
   "source": [
    "import os\n",
    "\n",
    "GARTH_HOME = os.getenv(\"GARTH_HOME\", \"~/.garth\")\n",
    "garmin.garth.dump(GARTH_HOME)"
   ]
  },
  {
   "cell_type": "code",
   "execution_count": 25,
   "id": "d62ef461",
   "metadata": {},
   "outputs": [
    {
     "data": {
      "text/plain": [
       "'2024-07-02'"
      ]
     },
     "execution_count": 25,
     "metadata": {},
     "output_type": "execute_result"
    }
   ],
   "source": [
    "from datetime import date, timedelta\n",
    "\n",
    "yesterday = date.today() - timedelta(days=1)\n",
    "yesterday = yesterday.isoformat()\n",
    "yesterday"
   ]
  },
  {
   "cell_type": "code",
   "execution_count": 26,
   "id": "07a2fc2c",
   "metadata": {},
   "outputs": [
    {
     "data": {
      "text/plain": [
       "dict_keys(['userProfileId', 'totalKilocalories', 'activeKilocalories', 'bmrKilocalories', 'wellnessKilocalories', 'burnedKilocalories', 'consumedKilocalories', 'remainingKilocalories', 'totalSteps', 'netCalorieGoal', 'totalDistanceMeters', 'wellnessDistanceMeters', 'wellnessActiveKilocalories', 'netRemainingKilocalories', 'userDailySummaryId', 'calendarDate', 'rule', 'uuid', 'dailyStepGoal', 'wellnessStartTimeGmt', 'wellnessStartTimeLocal', 'wellnessEndTimeGmt', 'wellnessEndTimeLocal', 'durationInMilliseconds', 'wellnessDescription', 'highlyActiveSeconds', 'activeSeconds', 'sedentarySeconds', 'sleepingSeconds', 'includesWellnessData', 'includesActivityData', 'includesCalorieConsumedData', 'privacyProtected', 'moderateIntensityMinutes', 'vigorousIntensityMinutes', 'floorsAscendedInMeters', 'floorsDescendedInMeters', 'floorsAscended', 'floorsDescended', 'intensityMinutesGoal', 'userFloorsAscendedGoal', 'minHeartRate', 'maxHeartRate', 'restingHeartRate', 'lastSevenDaysAvgRestingHeartRate', 'source', 'averageStressLevel', 'maxStressLevel', 'stressDuration', 'restStressDuration', 'activityStressDuration', 'uncategorizedStressDuration', 'totalStressDuration', 'lowStressDuration', 'mediumStressDuration', 'highStressDuration', 'stressPercentage', 'restStressPercentage', 'activityStressPercentage', 'uncategorizedStressPercentage', 'lowStressPercentage', 'mediumStressPercentage', 'highStressPercentage', 'stressQualifier', 'measurableAwakeDuration', 'measurableAsleepDuration', 'lastSyncTimestampGMT', 'minAvgHeartRate', 'maxAvgHeartRate', 'bodyBatteryChargedValue', 'bodyBatteryDrainedValue', 'bodyBatteryHighestValue', 'bodyBatteryLowestValue', 'bodyBatteryMostRecentValue', 'bodyBatteryDuringSleep', 'bodyBatteryVersion', 'abnormalHeartRateAlertsCount', 'averageSpo2', 'lowestSpo2', 'latestSpo2', 'latestSpo2ReadingTimeGmt', 'latestSpo2ReadingTimeLocal', 'averageMonitoringEnvironmentAltitude', 'restingCaloriesFromActivity', 'bodyBatteryDynamicFeedbackEvent', 'endOfDayBodyBatteryDynamicFeedbackEvent', 'bodyBatteryActivityEventList', 'avgWakingRespirationValue', 'highestRespirationValue', 'lowestRespirationValue', 'latestRespirationValue', 'latestRespirationTimeGMT'])"
      ]
     },
     "execution_count": 26,
     "metadata": {},
     "output_type": "execute_result"
    }
   ],
   "source": [
    "garmin.get_stats(yesterday).keys()"
   ]
  },
  {
   "cell_type": "code",
   "execution_count": 27,
   "id": "d9dd837d",
   "metadata": {},
   "outputs": [
    {
     "data": {
      "text/plain": [
       "dict_keys(['userProfileId', 'totalKilocalories', 'activeKilocalories', 'bmrKilocalories', 'wellnessKilocalories', 'burnedKilocalories', 'consumedKilocalories', 'remainingKilocalories', 'totalSteps', 'netCalorieGoal', 'totalDistanceMeters', 'wellnessDistanceMeters', 'wellnessActiveKilocalories', 'netRemainingKilocalories', 'userDailySummaryId', 'calendarDate', 'rule', 'uuid', 'dailyStepGoal', 'wellnessStartTimeGmt', 'wellnessStartTimeLocal', 'wellnessEndTimeGmt', 'wellnessEndTimeLocal', 'durationInMilliseconds', 'wellnessDescription', 'highlyActiveSeconds', 'activeSeconds', 'sedentarySeconds', 'sleepingSeconds', 'includesWellnessData', 'includesActivityData', 'includesCalorieConsumedData', 'privacyProtected', 'moderateIntensityMinutes', 'vigorousIntensityMinutes', 'floorsAscendedInMeters', 'floorsDescendedInMeters', 'floorsAscended', 'floorsDescended', 'intensityMinutesGoal', 'userFloorsAscendedGoal', 'minHeartRate', 'maxHeartRate', 'restingHeartRate', 'lastSevenDaysAvgRestingHeartRate', 'source', 'averageStressLevel', 'maxStressLevel', 'stressDuration', 'restStressDuration', 'activityStressDuration', 'uncategorizedStressDuration', 'totalStressDuration', 'lowStressDuration', 'mediumStressDuration', 'highStressDuration', 'stressPercentage', 'restStressPercentage', 'activityStressPercentage', 'uncategorizedStressPercentage', 'lowStressPercentage', 'mediumStressPercentage', 'highStressPercentage', 'stressQualifier', 'measurableAwakeDuration', 'measurableAsleepDuration', 'lastSyncTimestampGMT', 'minAvgHeartRate', 'maxAvgHeartRate', 'bodyBatteryChargedValue', 'bodyBatteryDrainedValue', 'bodyBatteryHighestValue', 'bodyBatteryLowestValue', 'bodyBatteryMostRecentValue', 'bodyBatteryDuringSleep', 'bodyBatteryVersion', 'abnormalHeartRateAlertsCount', 'averageSpo2', 'lowestSpo2', 'latestSpo2', 'latestSpo2ReadingTimeGmt', 'latestSpo2ReadingTimeLocal', 'averageMonitoringEnvironmentAltitude', 'restingCaloriesFromActivity', 'bodyBatteryDynamicFeedbackEvent', 'endOfDayBodyBatteryDynamicFeedbackEvent', 'bodyBatteryActivityEventList', 'avgWakingRespirationValue', 'highestRespirationValue', 'lowestRespirationValue', 'latestRespirationValue', 'latestRespirationTimeGMT'])"
      ]
     },
     "execution_count": 27,
     "metadata": {},
     "output_type": "execute_result"
    }
   ],
   "source": [
    "garmin.get_user_summary(yesterday).keys()"
   ]
  },
  {
   "cell_type": "code",
   "execution_count": 30,
   "id": "7ce7b626",
   "metadata": {},
   "outputs": [
    {
     "data": {
      "text/plain": [
       "{'startGMT': '2024-07-02T17:15:00.0',\n",
       " 'endGMT': '2024-07-02T17:30:00.0',\n",
       " 'steps': 138,\n",
       " 'pushes': 0,\n",
       " 'primaryActivityLevel': 'active',\n",
       " 'activityLevelConstant': True}"
      ]
     },
     "execution_count": 30,
     "metadata": {},
     "output_type": "execute_result"
    }
   ],
   "source": [
    "garmin.get_steps_data(yesterday)[-1]"
   ]
  },
  {
   "cell_type": "code",
   "execution_count": 31,
   "id": "556d8625",
   "metadata": {},
   "outputs": [
    {
     "data": {
      "text/plain": [
       "{'startTimestampGMT': '2024-07-01T22:00:00.0',\n",
       " 'endTimestampGMT': '2024-07-02T17:23:00.0',\n",
       " 'startTimestampLocal': '2024-07-02T00:00:00.0',\n",
       " 'endTimestampLocal': '2024-07-02T19:23:00.0',\n",
       " 'floorsValueDescriptorDTOList': [{'key': 'startTimeGMT', 'index': 0},\n",
       "  {'key': 'endTimeGMT', 'index': 1},\n",
       "  {'key': 'floorsAscended', 'index': 2},\n",
       "  {'key': 'floorsDescended', 'index': 3}],\n",
       " 'floorValuesArray': [['2024-07-01T22:00:00.0', '2024-07-01T22:15:00.0', 0, 0],\n",
       "  ['2024-07-01T22:15:00.0', '2024-07-01T22:30:00.0', 0, 0],\n",
       "  ['2024-07-01T22:30:00.0', '2024-07-01T22:45:00.0', 0, 0],\n",
       "  ['2024-07-01T22:45:00.0', '2024-07-01T23:00:00.0', 0, 0],\n",
       "  ['2024-07-01T23:00:00.0', '2024-07-01T23:15:00.0', 0, 0],\n",
       "  ['2024-07-01T23:15:00.0', '2024-07-01T23:30:00.0', 0, 0],\n",
       "  ['2024-07-01T23:30:00.0', '2024-07-01T23:45:00.0', 0, 0],\n",
       "  ['2024-07-01T23:45:00.0', '2024-07-02T00:00:00.0', 0, 0],\n",
       "  ['2024-07-02T00:00:00.0', '2024-07-02T00:15:00.0', 0, 0],\n",
       "  ['2024-07-02T00:15:00.0', '2024-07-02T00:30:00.0', 0, 0],\n",
       "  ['2024-07-02T00:30:00.0', '2024-07-02T00:45:00.0', 0, 0],\n",
       "  ['2024-07-02T00:45:00.0', '2024-07-02T01:00:00.0', 0, 0],\n",
       "  ['2024-07-02T01:00:00.0', '2024-07-02T01:15:00.0', 0, 0],\n",
       "  ['2024-07-02T01:15:00.0', '2024-07-02T01:30:00.0', 0, 0],\n",
       "  ['2024-07-02T01:30:00.0', '2024-07-02T01:45:00.0', 0, 0],\n",
       "  ['2024-07-02T01:45:00.0', '2024-07-02T02:00:00.0', 0, 0],\n",
       "  ['2024-07-02T02:00:00.0', '2024-07-02T02:15:00.0', 0, 0],\n",
       "  ['2024-07-02T02:15:00.0', '2024-07-02T02:30:00.0', 0, 0],\n",
       "  ['2024-07-02T02:30:00.0', '2024-07-02T02:45:00.0', 0, 0],\n",
       "  ['2024-07-02T02:45:00.0', '2024-07-02T03:00:00.0', 0, 0],\n",
       "  ['2024-07-02T03:00:00.0', '2024-07-02T03:15:00.0', 0, 0],\n",
       "  ['2024-07-02T03:15:00.0', '2024-07-02T03:30:00.0', 0, 0],\n",
       "  ['2024-07-02T03:30:00.0', '2024-07-02T03:45:00.0', 0, 0],\n",
       "  ['2024-07-02T03:45:00.0', '2024-07-02T04:00:00.0', 0, 0],\n",
       "  ['2024-07-02T04:00:00.0', '2024-07-02T04:15:00.0', 0, 0],\n",
       "  ['2024-07-02T04:15:00.0', '2024-07-02T04:30:00.0', 0, 1],\n",
       "  ['2024-07-02T04:30:00.0', '2024-07-02T04:45:00.0', 0, 0],\n",
       "  ['2024-07-02T04:45:00.0', '2024-07-02T05:00:00.0', 0, 0],\n",
       "  ['2024-07-02T05:00:00.0', '2024-07-02T05:15:00.0', 0, 0],\n",
       "  ['2024-07-02T05:15:00.0', '2024-07-02T05:30:00.0', 0, 0],\n",
       "  ['2024-07-02T05:30:00.0', '2024-07-02T05:45:00.0', 0, 0],\n",
       "  ['2024-07-02T05:45:00.0', '2024-07-02T06:00:00.0', 0, 0],\n",
       "  ['2024-07-02T06:00:00.0', '2024-07-02T06:15:00.0', 1, 0],\n",
       "  ['2024-07-02T06:15:00.0', '2024-07-02T06:30:00.0', 0, 0],\n",
       "  ['2024-07-02T06:30:00.0', '2024-07-02T06:45:00.0', 0, 0],\n",
       "  ['2024-07-02T06:45:00.0', '2024-07-02T07:00:00.0', 0, 0],\n",
       "  ['2024-07-02T07:00:00.0', '2024-07-02T07:15:00.0', 2, 2],\n",
       "  ['2024-07-02T07:15:00.0', '2024-07-02T07:30:00.0', 0, 0],\n",
       "  ['2024-07-02T07:30:00.0', '2024-07-02T07:45:00.0', 0, 0],\n",
       "  ['2024-07-02T07:45:00.0', '2024-07-02T08:00:00.0', 0, 0],\n",
       "  ['2024-07-02T08:00:00.0', '2024-07-02T08:15:00.0', 0, 2],\n",
       "  ['2024-07-02T08:15:00.0', '2024-07-02T08:30:00.0', 1, 0],\n",
       "  ['2024-07-02T08:30:00.0', '2024-07-02T08:45:00.0', 0, 0],\n",
       "  ['2024-07-02T08:45:00.0', '2024-07-02T09:00:00.0', 2, 1],\n",
       "  ['2024-07-02T09:00:00.0', '2024-07-02T09:15:00.0', 0, 0],\n",
       "  ['2024-07-02T09:15:00.0', '2024-07-02T09:30:00.0', 0, 0],\n",
       "  ['2024-07-02T09:30:00.0', '2024-07-02T09:45:00.0', 0, 0],\n",
       "  ['2024-07-02T09:45:00.0', '2024-07-02T10:00:00.0', 0, 0],\n",
       "  ['2024-07-02T10:00:00.0', '2024-07-02T10:15:00.0', 0, 2],\n",
       "  ['2024-07-02T10:15:00.0', '2024-07-02T10:30:00.0', 2, 0],\n",
       "  ['2024-07-02T10:30:00.0', '2024-07-02T10:45:00.0', 0, 0],\n",
       "  ['2024-07-02T10:45:00.0', '2024-07-02T11:00:00.0', 0, 2],\n",
       "  ['2024-07-02T11:00:00.0', '2024-07-02T11:15:00.0', 12, 10],\n",
       "  ['2024-07-02T11:15:00.0', '2024-07-02T11:30:00.0', 1, 0],\n",
       "  ['2024-07-02T11:30:00.0', '2024-07-02T11:45:00.0', 0, 0],\n",
       "  ['2024-07-02T11:45:00.0', '2024-07-02T12:00:00.0', 2, 0],\n",
       "  ['2024-07-02T12:00:00.0', '2024-07-02T12:15:00.0', 0, 0],\n",
       "  ['2024-07-02T12:15:00.0', '2024-07-02T12:30:00.0', 0, 0],\n",
       "  ['2024-07-02T12:30:00.0', '2024-07-02T12:45:00.0', 0, 0],\n",
       "  ['2024-07-02T12:45:00.0', '2024-07-02T13:00:00.0', 0, 0],\n",
       "  ['2024-07-02T13:00:00.0', '2024-07-02T13:15:00.0', 2, 1],\n",
       "  ['2024-07-02T13:15:00.0', '2024-07-02T13:30:00.0', 0, 0],\n",
       "  ['2024-07-02T13:30:00.0', '2024-07-02T13:45:00.0', 0, 0],\n",
       "  ['2024-07-02T13:45:00.0', '2024-07-02T14:00:00.0', 1, 2],\n",
       "  ['2024-07-02T14:00:00.0', '2024-07-02T14:15:00.0', 0, 0],\n",
       "  ['2024-07-02T14:15:00.0', '2024-07-02T14:30:00.0', 0, 0],\n",
       "  ['2024-07-02T14:30:00.0', '2024-07-02T14:45:00.0', 0, 0],\n",
       "  ['2024-07-02T14:45:00.0', '2024-07-02T15:00:00.0', 0, 0],\n",
       "  ['2024-07-02T15:00:00.0', '2024-07-02T15:15:00.0', 3, 3],\n",
       "  ['2024-07-02T15:15:00.0', '2024-07-02T15:30:00.0', 0, 2],\n",
       "  ['2024-07-02T15:30:00.0', '2024-07-02T15:45:00.0', 0, 0],\n",
       "  ['2024-07-02T15:45:00.0', '2024-07-02T16:00:00.0', 1, 1],\n",
       "  ['2024-07-02T16:00:00.0', '2024-07-02T16:15:00.0', 0, 0],\n",
       "  ['2024-07-02T16:15:00.0', '2024-07-02T16:30:00.0', 0, 0],\n",
       "  ['2024-07-02T16:30:00.0', '2024-07-02T16:45:00.0', 0, 0],\n",
       "  ['2024-07-02T16:45:00.0', '2024-07-02T17:00:00.0', 0, 0],\n",
       "  ['2024-07-02T17:00:00.0', '2024-07-02T17:15:00.0', 2, 0],\n",
       "  ['2024-07-02T17:15:00.0', '2024-07-02T17:30:00.0', 0, 2]]}"
      ]
     },
     "execution_count": 31,
     "metadata": {},
     "output_type": "execute_result"
    }
   ],
   "source": [
    "garmin.get_floors(yesterday)"
   ]
  },
  {
   "cell_type": "code",
   "execution_count": null,
   "id": "2f1efa0f",
   "metadata": {},
   "outputs": [],
   "source": []
  },
  {
   "cell_type": "code",
   "execution_count": 76,
   "id": "d01fea05",
   "metadata": {},
   "outputs": [
    {
     "data": {
      "text/plain": [
       "'2024-06-13'"
      ]
     },
     "execution_count": 76,
     "metadata": {},
     "output_type": "execute_result"
    }
   ],
   "source": [
    "start= date.today() - timedelta(days=21)\n",
    "start = start.isoformat()\n",
    "start"
   ]
  },
  {
   "cell_type": "code",
   "execution_count": 77,
   "id": "b904b6e7",
   "metadata": {},
   "outputs": [
    {
     "data": {
      "text/plain": [
       "'2024-07-02'"
      ]
     },
     "execution_count": 77,
     "metadata": {},
     "output_type": "execute_result"
    }
   ],
   "source": [
    "yesterday"
   ]
  },
  {
   "cell_type": "code",
   "execution_count": 79,
   "id": "62f0e16a",
   "metadata": {},
   "outputs": [],
   "source": [
    "dailysteps=garmin.get_daily_steps(start=start,end=yesterday)"
   ]
  },
  {
   "cell_type": "code",
   "execution_count": 70,
   "id": "38a7270a",
   "metadata": {},
   "outputs": [],
   "source": [
    "activities=garmin.get_activities(start=0,limit=3)"
   ]
  },
  {
   "cell_type": "code",
   "execution_count": 56,
   "id": "fa1a448a",
   "metadata": {},
   "outputs": [
    {
     "data": {
      "text/plain": [
       "{'userDeviceId': 3457768101,\n",
       " 'userProfileNumber': 9573420,\n",
       " 'applicationNumber': 37086,\n",
       " 'lastUsedDeviceApplicationKey': 'forerunner965',\n",
       " 'lastUsedDeviceName': 'Forerunner 965',\n",
       " 'lastUsedDeviceUploadTime': 1719996227000,\n",
       " 'imageUrl': 'https://res.garmin.com/en/products/010-02809-11/v/c1_01_md.png',\n",
       " 'released': True}"
      ]
     },
     "execution_count": 56,
     "metadata": {},
     "output_type": "execute_result"
    }
   ],
   "source": [
    "garmin.get_device_last_used()"
   ]
  },
  {
   "cell_type": "code",
   "execution_count": 65,
   "id": "8f73f650",
   "metadata": {},
   "outputs": [],
   "source": [
    "csvau=garmin.download_activity(16208878764,dl_fmt=garmin.ActivityDownloadFormat.CSV)"
   ]
  },
  {
   "cell_type": "code",
   "execution_count": 67,
   "id": "df15f547",
   "metadata": {},
   "outputs": [],
   "source": [
    "import pandas as pd"
   ]
  },
  {
   "cell_type": "code",
   "execution_count": 68,
   "id": "3fa8e0a4",
   "metadata": {},
   "outputs": [
    {
     "ename": "ValueError",
     "evalue": "DataFrame constructor not properly called!",
     "output_type": "error",
     "traceback": [
      "\u001b[0;31m---------------------------------------------------------------------------\u001b[0m",
      "\u001b[0;31mValueError\u001b[0m                                Traceback (most recent call last)",
      "\u001b[0;32m/var/folders/68/9tltm6l520v0stj3qjlc5v9w0000gn/T/ipykernel_8422/3064004516.py\u001b[0m in \u001b[0;36m?\u001b[0;34m()\u001b[0m\n\u001b[0;32m----> 1\u001b[0;31m \u001b[0mdf\u001b[0m\u001b[0;34m=\u001b[0m\u001b[0mpd\u001b[0m\u001b[0;34m.\u001b[0m\u001b[0mDataFrame\u001b[0m\u001b[0;34m(\u001b[0m\u001b[0mcsvau\u001b[0m\u001b[0;34m)\u001b[0m\u001b[0;34m\u001b[0m\u001b[0;34m\u001b[0m\u001b[0m\n\u001b[0m",
      "\u001b[0;32m~/opt/anaconda3/envs/ws2324/lib/python3.11/site-packages/pandas/core/frame.py\u001b[0m in \u001b[0;36m?\u001b[0;34m(self, data, index, columns, dtype, copy)\u001b[0m\n\u001b[1;32m    813\u001b[0m                 )\n\u001b[1;32m    814\u001b[0m         \u001b[0;31m# For data is scalar\u001b[0m\u001b[0;34m\u001b[0m\u001b[0;34m\u001b[0m\u001b[0m\n\u001b[1;32m    815\u001b[0m         \u001b[0;32melse\u001b[0m\u001b[0;34m:\u001b[0m\u001b[0;34m\u001b[0m\u001b[0;34m\u001b[0m\u001b[0m\n\u001b[1;32m    816\u001b[0m             \u001b[0;32mif\u001b[0m \u001b[0mindex\u001b[0m \u001b[0;32mis\u001b[0m \u001b[0;32mNone\u001b[0m \u001b[0;32mor\u001b[0m \u001b[0mcolumns\u001b[0m \u001b[0;32mis\u001b[0m \u001b[0;32mNone\u001b[0m\u001b[0;34m:\u001b[0m\u001b[0;34m\u001b[0m\u001b[0;34m\u001b[0m\u001b[0m\n\u001b[0;32m--> 817\u001b[0;31m                 \u001b[0;32mraise\u001b[0m \u001b[0mValueError\u001b[0m\u001b[0;34m(\u001b[0m\u001b[0;34m\"DataFrame constructor not properly called!\"\u001b[0m\u001b[0;34m)\u001b[0m\u001b[0;34m\u001b[0m\u001b[0;34m\u001b[0m\u001b[0m\n\u001b[0m\u001b[1;32m    818\u001b[0m \u001b[0;34m\u001b[0m\u001b[0m\n\u001b[1;32m    819\u001b[0m             \u001b[0mindex\u001b[0m \u001b[0;34m=\u001b[0m \u001b[0mensure_index\u001b[0m\u001b[0;34m(\u001b[0m\u001b[0mindex\u001b[0m\u001b[0;34m)\u001b[0m\u001b[0;34m\u001b[0m\u001b[0;34m\u001b[0m\u001b[0m\n\u001b[1;32m    820\u001b[0m             \u001b[0mcolumns\u001b[0m \u001b[0;34m=\u001b[0m \u001b[0mensure_index\u001b[0m\u001b[0;34m(\u001b[0m\u001b[0mcolumns\u001b[0m\u001b[0;34m)\u001b[0m\u001b[0;34m\u001b[0m\u001b[0;34m\u001b[0m\u001b[0m\n",
      "\u001b[0;31mValueError\u001b[0m: DataFrame constructor not properly called!"
     ]
    }
   ],
   "source": [
    "df=pd.DataFrame(csvau)"
   ]
  },
  {
   "cell_type": "code",
   "execution_count": 69,
   "id": "54e11b03",
   "metadata": {},
   "outputs": [
    {
     "data": {
      "text/plain": [
       "b'Zwischenzeit,Zeit,Zeit in Bewegung,Distanz,Positiver H\\xc3\\xb6henunterschied,Negativer H\\xc3\\xb6henunterschied,\\xc3\\x98 Pace,\\xc3\\x98 Pace in Bewegung,Beste Pace,\\xc3\\x98 Schrittfrequenz (Laufen),Max. Trittfrequenz (Laufen),\\xc3\\x98 Schrittl\\xc3\\xa4nge,\\xc3\\x98 Herzfrequenz,Max. HF,\\xc3\\x98-Temperatur,Kalorien\\n1,00:05:09.896,00:05:09.896,1,--,--,0:05:09  ,0:05:09  ,0:04:45  ,156.5,161.0,123.19000244140625,121.0,131.0,--,56\\n2,00:04:46.059,00:04:46.059,1,--,--,0:04:46  ,0:04:46  ,0:04:25  ,157.328125,160.0,133.6800048828125,135.0,143.0,--,60\\n3,00:05:54.714,00:05:43.000,1,--,--,0:05:54  ,0:05:43  ,0:03:53  ,149.234375,169.0,112.85999755859376,133.0,140.0,--,72\\n4,00:04:36.185,00:04:36.000,1,--,--,0:04:36  ,0:04:35  ,0:03:55  ,161.703125,175.0,133.0,145.0,155.0,--,61\\n5,00:04:33.431,00:04:33.431,1,--,--,0:04:33  ,0:04:33  ,0:04:20  ,160.71875,164.0,136.84000244140626,148.0,151.0,--,63\\n6,00:04:31.723,00:04:31.723,1,--,--,0:04:31  ,0:04:31  ,0:04:19  ,161.125,166.0,137.2199951171875,149.0,153.0,--,63\\n7,00:04:38.012,00:04:38.000,1,--,--,0:04:38  ,0:04:38  ,0:04:12  ,159.46875,163.0,135.5199951171875,148.0,153.0,--,63\\n8,00:04:32.768,00:04:32.000,1,--,--,0:04:32  ,0:04:32  ,0:04:18  ,159.84375,164.0,138.08000488281252,150.0,153.0,--,63\\n9,00:04:34.224,00:04:34.224,1,--,--,0:04:34  ,0:04:34  ,0:04:00  ,159.890625,163.0,137.1199951171875,149.0,153.0,--,62\\n10,00:04:38.766,00:04:38.000,1,--,--,0:04:38  ,0:04:38  ,0:04:09  ,159.0625,164.0,135.4,148.0,152.0,--,63\\n11,00:04:26.591,00:04:26.591,1,--,--,0:04:26  ,0:04:26  ,0:03:43  ,160.328125,171.0,140.59000244140626,155.0,163.0,--,64\\n12,00:02:30.131,00:02:29.000,0.47,--,--,0:05:16  ,0:05:13  ,0:04:56  ,153.890625,159.0,123.30999755859375,136.0,141.0,--,26\\nSummary,00:54:52.500,00:54:37.924,11.47,--,--,0:04:46  ,0:04:45  ,0:03:43  ,158.171875,175.0,132.04000244140624,143.0,163.0,--,716\\n'"
      ]
     },
     "execution_count": 69,
     "metadata": {},
     "output_type": "execute_result"
    }
   ],
   "source": [
    "csvau"
   ]
  },
  {
   "cell_type": "code",
   "execution_count": 71,
   "id": "4819bdd8",
   "metadata": {},
   "outputs": [],
   "source": [
    "activDF=pd.DataFrame(activities)"
   ]
  },
  {
   "cell_type": "code",
   "execution_count": 72,
   "id": "f913bf10",
   "metadata": {},
   "outputs": [
    {
     "data": {
      "text/html": [
       "<div>\n",
       "<style scoped>\n",
       "    .dataframe tbody tr th:only-of-type {\n",
       "        vertical-align: middle;\n",
       "    }\n",
       "\n",
       "    .dataframe tbody tr th {\n",
       "        vertical-align: top;\n",
       "    }\n",
       "\n",
       "    .dataframe thead th {\n",
       "        text-align: right;\n",
       "    }\n",
       "</style>\n",
       "<table border=\"1\" class=\"dataframe\">\n",
       "  <thead>\n",
       "    <tr style=\"text-align: right;\">\n",
       "      <th></th>\n",
       "      <th>activityId</th>\n",
       "      <th>activityName</th>\n",
       "      <th>startTimeLocal</th>\n",
       "      <th>startTimeGMT</th>\n",
       "      <th>activityType</th>\n",
       "      <th>eventType</th>\n",
       "      <th>distance</th>\n",
       "      <th>duration</th>\n",
       "      <th>elapsedDuration</th>\n",
       "      <th>movingDuration</th>\n",
       "      <th>...</th>\n",
       "      <th>elevationGain</th>\n",
       "      <th>elevationLoss</th>\n",
       "      <th>startLatitude</th>\n",
       "      <th>startLongitude</th>\n",
       "      <th>strokes</th>\n",
       "      <th>minElevation</th>\n",
       "      <th>maxElevation</th>\n",
       "      <th>maxVerticalSpeed</th>\n",
       "      <th>endLatitude</th>\n",
       "      <th>endLongitude</th>\n",
       "    </tr>\n",
       "  </thead>\n",
       "  <tbody>\n",
       "    <tr>\n",
       "      <th>0</th>\n",
       "      <td>16225973400</td>\n",
       "      <td>Laufbandtraining</td>\n",
       "      <td>2024-07-03 17:55:34</td>\n",
       "      <td>2024-07-03 15:55:34</td>\n",
       "      <td>{'typeId': 18, 'typeKey': 'treadmill_running',...</td>\n",
       "      <td>{'typeId': 9, 'typeKey': 'uncategorized', 'sor...</td>\n",
       "      <td>11026.000000</td>\n",
       "      <td>3371.743896</td>\n",
       "      <td>3371.743896</td>\n",
       "      <td>3369.280029</td>\n",
       "      <td>...</td>\n",
       "      <td>NaN</td>\n",
       "      <td>NaN</td>\n",
       "      <td>NaN</td>\n",
       "      <td>NaN</td>\n",
       "      <td>NaN</td>\n",
       "      <td>NaN</td>\n",
       "      <td>NaN</td>\n",
       "      <td>NaN</td>\n",
       "      <td>NaN</td>\n",
       "      <td>NaN</td>\n",
       "    </tr>\n",
       "    <tr>\n",
       "      <th>1</th>\n",
       "      <td>16225953449</td>\n",
       "      <td>Zwift - 5x(1min-2min) in Watopia</td>\n",
       "      <td>2024-07-03 17:55:25</td>\n",
       "      <td>2024-07-03 15:55:25</td>\n",
       "      <td>{'typeId': 153, 'typeKey': 'virtual_run', 'par...</td>\n",
       "      <td>{'typeId': 9, 'typeKey': 'uncategorized', 'sor...</td>\n",
       "      <td>11132.730469</td>\n",
       "      <td>3377.000000</td>\n",
       "      <td>3376.000000</td>\n",
       "      <td>3375.000000</td>\n",
       "      <td>...</td>\n",
       "      <td>0.0</td>\n",
       "      <td>0.0</td>\n",
       "      <td>0.0</td>\n",
       "      <td>0.0</td>\n",
       "      <td>0.0</td>\n",
       "      <td>0.0</td>\n",
       "      <td>1.0</td>\n",
       "      <td>1.0</td>\n",
       "      <td>-11.635659</td>\n",
       "      <td>166.95348</td>\n",
       "    </tr>\n",
       "    <tr>\n",
       "      <th>2</th>\n",
       "      <td>16208878764</td>\n",
       "      <td>Laufbandtraining</td>\n",
       "      <td>2024-07-02 18:01:07</td>\n",
       "      <td>2024-07-02 16:01:07</td>\n",
       "      <td>{'typeId': 18, 'typeKey': 'treadmill_running',...</td>\n",
       "      <td>{'typeId': 9, 'typeKey': 'uncategorized', 'sor...</td>\n",
       "      <td>11474.629883</td>\n",
       "      <td>3292.500000</td>\n",
       "      <td>3292.500000</td>\n",
       "      <td>3277.923981</td>\n",
       "      <td>...</td>\n",
       "      <td>NaN</td>\n",
       "      <td>NaN</td>\n",
       "      <td>NaN</td>\n",
       "      <td>NaN</td>\n",
       "      <td>NaN</td>\n",
       "      <td>NaN</td>\n",
       "      <td>NaN</td>\n",
       "      <td>NaN</td>\n",
       "      <td>NaN</td>\n",
       "      <td>NaN</td>\n",
       "    </tr>\n",
       "  </tbody>\n",
       "</table>\n",
       "<p>3 rows × 82 columns</p>\n",
       "</div>"
      ],
      "text/plain": [
       "    activityId                      activityName       startTimeLocal  \\\n",
       "0  16225973400                  Laufbandtraining  2024-07-03 17:55:34   \n",
       "1  16225953449  Zwift - 5x(1min-2min) in Watopia  2024-07-03 17:55:25   \n",
       "2  16208878764                  Laufbandtraining  2024-07-02 18:01:07   \n",
       "\n",
       "          startTimeGMT                                       activityType  \\\n",
       "0  2024-07-03 15:55:34  {'typeId': 18, 'typeKey': 'treadmill_running',...   \n",
       "1  2024-07-03 15:55:25  {'typeId': 153, 'typeKey': 'virtual_run', 'par...   \n",
       "2  2024-07-02 16:01:07  {'typeId': 18, 'typeKey': 'treadmill_running',...   \n",
       "\n",
       "                                           eventType      distance  \\\n",
       "0  {'typeId': 9, 'typeKey': 'uncategorized', 'sor...  11026.000000   \n",
       "1  {'typeId': 9, 'typeKey': 'uncategorized', 'sor...  11132.730469   \n",
       "2  {'typeId': 9, 'typeKey': 'uncategorized', 'sor...  11474.629883   \n",
       "\n",
       "      duration  elapsedDuration  movingDuration  ...  elevationGain  \\\n",
       "0  3371.743896      3371.743896     3369.280029  ...            NaN   \n",
       "1  3377.000000      3376.000000     3375.000000  ...            0.0   \n",
       "2  3292.500000      3292.500000     3277.923981  ...            NaN   \n",
       "\n",
       "   elevationLoss  startLatitude  startLongitude  strokes minElevation  \\\n",
       "0            NaN            NaN             NaN      NaN          NaN   \n",
       "1            0.0            0.0             0.0      0.0          0.0   \n",
       "2            NaN            NaN             NaN      NaN          NaN   \n",
       "\n",
       "  maxElevation maxVerticalSpeed endLatitude endLongitude  \n",
       "0          NaN              NaN         NaN          NaN  \n",
       "1          1.0              1.0  -11.635659    166.95348  \n",
       "2          NaN              NaN         NaN          NaN  \n",
       "\n",
       "[3 rows x 82 columns]"
      ]
     },
     "execution_count": 72,
     "metadata": {},
     "output_type": "execute_result"
    }
   ],
   "source": [
    "activDF"
   ]
  },
  {
   "cell_type": "code",
   "execution_count": 80,
   "id": "c34511b5",
   "metadata": {},
   "outputs": [
    {
     "data": {
      "text/html": [
       "<div>\n",
       "<style scoped>\n",
       "    .dataframe tbody tr th:only-of-type {\n",
       "        vertical-align: middle;\n",
       "    }\n",
       "\n",
       "    .dataframe tbody tr th {\n",
       "        vertical-align: top;\n",
       "    }\n",
       "\n",
       "    .dataframe thead th {\n",
       "        text-align: right;\n",
       "    }\n",
       "</style>\n",
       "<table border=\"1\" class=\"dataframe\">\n",
       "  <thead>\n",
       "    <tr style=\"text-align: right;\">\n",
       "      <th></th>\n",
       "      <th>calendarDate</th>\n",
       "      <th>totalSteps</th>\n",
       "      <th>totalDistance</th>\n",
       "      <th>stepGoal</th>\n",
       "    </tr>\n",
       "  </thead>\n",
       "  <tbody>\n",
       "    <tr>\n",
       "      <th>0</th>\n",
       "      <td>2024-06-13</td>\n",
       "      <td>14453</td>\n",
       "      <td>17464</td>\n",
       "      <td>10000</td>\n",
       "    </tr>\n",
       "    <tr>\n",
       "      <th>1</th>\n",
       "      <td>2024-06-14</td>\n",
       "      <td>14517</td>\n",
       "      <td>16859</td>\n",
       "      <td>10000</td>\n",
       "    </tr>\n",
       "    <tr>\n",
       "      <th>2</th>\n",
       "      <td>2024-06-15</td>\n",
       "      <td>15527</td>\n",
       "      <td>17925</td>\n",
       "      <td>10000</td>\n",
       "    </tr>\n",
       "    <tr>\n",
       "      <th>3</th>\n",
       "      <td>2024-06-16</td>\n",
       "      <td>12071</td>\n",
       "      <td>13495</td>\n",
       "      <td>10000</td>\n",
       "    </tr>\n",
       "    <tr>\n",
       "      <th>4</th>\n",
       "      <td>2024-06-17</td>\n",
       "      <td>14212</td>\n",
       "      <td>15424</td>\n",
       "      <td>10000</td>\n",
       "    </tr>\n",
       "    <tr>\n",
       "      <th>5</th>\n",
       "      <td>2024-06-18</td>\n",
       "      <td>11274</td>\n",
       "      <td>13115</td>\n",
       "      <td>10000</td>\n",
       "    </tr>\n",
       "    <tr>\n",
       "      <th>6</th>\n",
       "      <td>2024-06-19</td>\n",
       "      <td>14105</td>\n",
       "      <td>14881</td>\n",
       "      <td>10000</td>\n",
       "    </tr>\n",
       "    <tr>\n",
       "      <th>7</th>\n",
       "      <td>2024-06-20</td>\n",
       "      <td>12938</td>\n",
       "      <td>10949</td>\n",
       "      <td>10000</td>\n",
       "    </tr>\n",
       "    <tr>\n",
       "      <th>8</th>\n",
       "      <td>2024-06-21</td>\n",
       "      <td>15038</td>\n",
       "      <td>16139</td>\n",
       "      <td>10000</td>\n",
       "    </tr>\n",
       "    <tr>\n",
       "      <th>9</th>\n",
       "      <td>2024-06-22</td>\n",
       "      <td>14878</td>\n",
       "      <td>17081</td>\n",
       "      <td>10000</td>\n",
       "    </tr>\n",
       "    <tr>\n",
       "      <th>10</th>\n",
       "      <td>2024-06-23</td>\n",
       "      <td>18038</td>\n",
       "      <td>20145</td>\n",
       "      <td>10000</td>\n",
       "    </tr>\n",
       "    <tr>\n",
       "      <th>11</th>\n",
       "      <td>2024-06-24</td>\n",
       "      <td>14907</td>\n",
       "      <td>16271</td>\n",
       "      <td>10000</td>\n",
       "    </tr>\n",
       "    <tr>\n",
       "      <th>12</th>\n",
       "      <td>2024-06-25</td>\n",
       "      <td>13241</td>\n",
       "      <td>15182</td>\n",
       "      <td>10000</td>\n",
       "    </tr>\n",
       "    <tr>\n",
       "      <th>13</th>\n",
       "      <td>2024-06-26</td>\n",
       "      <td>13032</td>\n",
       "      <td>14485</td>\n",
       "      <td>10000</td>\n",
       "    </tr>\n",
       "    <tr>\n",
       "      <th>14</th>\n",
       "      <td>2024-06-27</td>\n",
       "      <td>14631</td>\n",
       "      <td>16617</td>\n",
       "      <td>10000</td>\n",
       "    </tr>\n",
       "    <tr>\n",
       "      <th>15</th>\n",
       "      <td>2024-06-28</td>\n",
       "      <td>12828</td>\n",
       "      <td>14292</td>\n",
       "      <td>10000</td>\n",
       "    </tr>\n",
       "    <tr>\n",
       "      <th>16</th>\n",
       "      <td>2024-06-29</td>\n",
       "      <td>15521</td>\n",
       "      <td>18088</td>\n",
       "      <td>10000</td>\n",
       "    </tr>\n",
       "    <tr>\n",
       "      <th>17</th>\n",
       "      <td>2024-06-30</td>\n",
       "      <td>24252</td>\n",
       "      <td>26363</td>\n",
       "      <td>10000</td>\n",
       "    </tr>\n",
       "    <tr>\n",
       "      <th>18</th>\n",
       "      <td>2024-07-01</td>\n",
       "      <td>13699</td>\n",
       "      <td>14914</td>\n",
       "      <td>10000</td>\n",
       "    </tr>\n",
       "    <tr>\n",
       "      <th>19</th>\n",
       "      <td>2024-07-02</td>\n",
       "      <td>12690</td>\n",
       "      <td>14881</td>\n",
       "      <td>10000</td>\n",
       "    </tr>\n",
       "  </tbody>\n",
       "</table>\n",
       "</div>"
      ],
      "text/plain": [
       "   calendarDate  totalSteps  totalDistance  stepGoal\n",
       "0    2024-06-13       14453          17464     10000\n",
       "1    2024-06-14       14517          16859     10000\n",
       "2    2024-06-15       15527          17925     10000\n",
       "3    2024-06-16       12071          13495     10000\n",
       "4    2024-06-17       14212          15424     10000\n",
       "5    2024-06-18       11274          13115     10000\n",
       "6    2024-06-19       14105          14881     10000\n",
       "7    2024-06-20       12938          10949     10000\n",
       "8    2024-06-21       15038          16139     10000\n",
       "9    2024-06-22       14878          17081     10000\n",
       "10   2024-06-23       18038          20145     10000\n",
       "11   2024-06-24       14907          16271     10000\n",
       "12   2024-06-25       13241          15182     10000\n",
       "13   2024-06-26       13032          14485     10000\n",
       "14   2024-06-27       14631          16617     10000\n",
       "15   2024-06-28       12828          14292     10000\n",
       "16   2024-06-29       15521          18088     10000\n",
       "17   2024-06-30       24252          26363     10000\n",
       "18   2024-07-01       13699          14914     10000\n",
       "19   2024-07-02       12690          14881     10000"
      ]
     },
     "execution_count": 80,
     "metadata": {},
     "output_type": "execute_result"
    }
   ],
   "source": [
    "dailyStepsDF=pd.DataFrame(dailysteps)\n",
    "dailyStepsDF"
   ]
  },
  {
   "cell_type": "code",
   "execution_count": 81,
   "id": "167dcd0d",
   "metadata": {},
   "outputs": [],
   "source": [
    "dailyStepsDF.to_csv(\"dailyStepsJune24.csv\")"
   ]
  },
  {
   "cell_type": "code",
   "execution_count": null,
   "id": "3110b89a",
   "metadata": {},
   "outputs": [],
   "source": []
  }
 ],
 "metadata": {
  "kernelspec": {
   "display_name": "Python 3 (ipykernel)",
   "language": "python",
   "name": "python3"
  },
  "language_info": {
   "codemirror_mode": {
    "name": "ipython",
    "version": 3
   },
   "file_extension": ".py",
   "mimetype": "text/x-python",
   "name": "python",
   "nbconvert_exporter": "python",
   "pygments_lexer": "ipython3",
   "version": "3.11.5"
  }
 },
 "nbformat": 4,
 "nbformat_minor": 5
}
